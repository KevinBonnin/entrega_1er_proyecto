{
 "cells": [
  {
   "cell_type": "markdown",
   "metadata": {},
   "source": [
    "PRESENTACIÓN DEL PROYECTO\n",
    "\n",
    "En este proyecto se nos pidió que realizaramos una API de la cual se extrajeran ciertas consultas especificas y ademas que tenga un sistema de recomendación de películas, al cuál se le debía ingresar el titulo de una película y tendría que retornar 5 recomendaciones."
   ]
  },
  {
   "cell_type": "markdown",
   "metadata": {},
   "source": [
    "ETL\n",
    "La extracción y procesamiento de la base de datos se inició desanidando columnas, para lo cuál se crearon funciones específicas dependiendo de que se quería extraer de los datos anidados.\n",
    "Después de eso se procedió con los siguientes pasos:\n",
    "\n",
    "    Cambiar los datos de las columnas revenue, budget por 0.\n",
    "\n",
    "    Se eliminaron los valores nulos de la columna release date.\n",
    "\n",
    "    Se ajustaron los datos de fechas al formato AAA-MM-DD y de creó una columna solamente con los años en que se produjeron las películas.\n",
    "\n",
    "    Se creó la columna return en la cual se establece el R.O.I. (Return on Investment) por película.\n",
    "    \n",
    "    Se eliminaron las columnas video,imdb_id,adult,original_title,poster_path y homepage al no considerarce necesarias."
   ]
  },
  {
   "cell_type": "markdown",
   "metadata": {},
   "source": [
    "API\n",
    "Se creó la API y se desarrollaron los endpoints solicitados ademas de un modelo de Machine-Learning de K-Vecinos utilizado para recomendar películas similares."
   ]
  },
  {
   "cell_type": "markdown",
   "metadata": {},
   "source": [
    "LINKS:\n",
    "\n",
    "Repositorio: https://github.com/KevinBonnin/entrega_1er_proyecto\n",
    "\n",
    "API: https://entrega-1er-proyecto.onrender.com/docs\n",
    "\n",
    "Video: https://youtu.be/q1Gs8XJ8aaY"
   ]
  }
 ],
 "metadata": {
  "language_info": {
   "name": "python"
  },
  "orig_nbformat": 4
 },
 "nbformat": 4,
 "nbformat_minor": 2
}
